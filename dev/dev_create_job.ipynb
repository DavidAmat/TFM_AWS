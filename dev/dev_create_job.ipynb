{
 "cells": [
  {
   "cell_type": "code",
   "execution_count": 13,
   "metadata": {},
   "outputs": [],
   "source": [
    "job_example = \"\"\"\n",
    "#!/usr/bin/env bash\n",
    "sudo -i -u root bash << EOF\n",
    "/root/.local/share/virtualenvs/scrap-9ZJEulFg/bin/python /home/ec2-user/scrap/code/main_scrap.py 0 10\n",
    "EOF\n",
    "\"\"\"\n",
    "\n",
    "import os\n",
    "import numpy as np\n",
    "\n",
    "# Create the folder jobs if not exists\n",
    "if \"jobs\" not in os.listdir(\".\"):\n",
    "    os.mkdir(\"jobs\")\n",
    "\n",
    "# Set the number of rows of the dataframe\n",
    "n_rows = 14 # starts by 0 and ends by 83956\n",
    "\n",
    "# Number of songs to download per batch\n",
    "n_samples_batch = 4\n",
    "\n",
    "# Number of batches\n",
    "n_batchs = int(np.ceil(n_rows / n_samples_batch))\n",
    "\n",
    "# Fixed commands\n",
    "bash_script = \"\"\"#!/usr/bin/env bash\n",
    "sudo -i -u root bash << EOF\"\"\"\n",
    "end_bash = \"\\necho 'Fin' \\nEOF\"\n",
    "\n",
    "# Save batch scripts\n",
    "for i_batch, nb in enumerate(range(n_batchs)):\n",
    "    initial_row = i_batch * n_samples_batch\n",
    "    final_row = (i_batch+1) * n_samples_batch - 1 #avoid repeating the number that will be in the next batch as initial_row\n",
    "    # If the final batch\n",
    "    if final_row == n_rows:\n",
    "        final_row = n_rows - 1 # avoid accessing an unexisting element in the df\n",
    "\n",
    "    # Command to run\n",
    "    run_str = f\"\"\"\\n/root/.local/share/virtualenvs/scrap-9ZJEulFg/bin/python /home/ec2-user/scrap/code/main_scrap.py {initial_row} {final_row}\"\"\"\n",
    "\n",
    "    # Generate full bash script\n",
    "    full_script =  bash_script + run_str + end_bash\n",
    "\n",
    "    # Save to the jobs/ folder\n",
    "    with open(f\"jobs/job_{i_batch}.sh\", \"w\") as jf:\n",
    "        jf.write(full_script)\n",
    "    "
   ]
  },
  {
   "cell_type": "code",
   "execution_count": null,
   "metadata": {},
   "outputs": [],
   "source": []
  }
 ],
 "metadata": {
  "kernelspec": {
   "display_name": "Python 3",
   "language": "python",
   "name": "python3"
  },
  "language_info": {
   "codemirror_mode": {
    "name": "ipython",
    "version": 3
   },
   "file_extension": ".py",
   "mimetype": "text/x-python",
   "name": "python",
   "nbconvert_exporter": "python",
   "pygments_lexer": "ipython3",
   "version": "3.7.6"
  }
 },
 "nbformat": 4,
 "nbformat_minor": 4
}
