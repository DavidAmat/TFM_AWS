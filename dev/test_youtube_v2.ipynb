{
 "cells": [
  {
   "cell_type": "code",
   "execution_count": 3,
   "metadata": {},
   "outputs": [],
   "source": [
    "import pandas as pd\n",
    "import numpy as np\n",
    "import os \n",
    "import sys\n",
    "import collections\n",
    "from collections import defaultdict\n",
    "import requests\n",
    "import tqdm\n",
    "from bs4 import BeautifulSoup\n",
    "import re\n",
    "import psycopg2\n",
    "\n",
    "from selenium import webdriver\n",
    "from selenium.webdriver.common.by import By\n",
    "from selenium.webdriver.support.ui import WebDriverWait\n",
    "from selenium.webdriver.support import expected_conditions as EC\n",
    "from selenium.common.exceptions import TimeoutException\n",
    "from selenium.webdriver.chrome.options import Options\n",
    "\n",
    "#Selenium options\n",
    "options = Options()\n",
    "options.add_argument(\"--headless\")\n",
    "options.add_argument(\"window-size=1400,1500\")\n",
    "options.add_argument(\"--disable-gpu\")\n",
    "options.add_argument(\"--no-sandbox\")\n",
    "options.add_argument(\"start-maximized\")\n",
    "options.add_argument(\"enable-automation\")\n",
    "options.add_argument(\"--disable-infobars\")\n",
    "options.add_argument(\"--disable-dev-shm-usage\")"
   ]
  },
  {
   "cell_type": "code",
   "execution_count": 37,
   "metadata": {},
   "outputs": [],
   "source": [
    "# Read the queries dataframe\n",
    "df = pd.read_csv(\"../data/queries.csv\", delimiter = \";\")\n",
    "df.set_index(\"index\", inplace=True)\n",
    "\n",
    "df = df.loc[range(1,10000)]\n",
    "df = df.sample(30)"
   ]
  },
  {
   "cell_type": "code",
   "execution_count": 85,
   "metadata": {},
   "outputs": [],
   "source": [
    "row = df.iloc[2]\n",
    "artist_name = row.artist_name\n",
    "artist_id = row.artist_id\n",
    "track_name = row.track_name\n",
    "track_id = row.track_id"
   ]
  },
  {
   "cell_type": "code",
   "execution_count": 86,
   "metadata": {},
   "outputs": [
    {
     "data": {
      "text/plain": [
       "['haute', 'J Balvin']"
      ]
     },
     "execution_count": 86,
     "metadata": {},
     "output_type": "execute_result"
    }
   ],
   "source": [
    "# Input is TRACK_NAME, ARTIST_NAME\n",
    "input_query = [track_name, artist_name]\n",
    "input_query"
   ]
  },
  {
   "cell_type": "code",
   "execution_count": 87,
   "metadata": {},
   "outputs": [],
   "source": [
    "qtrack  = input_query[0]\n",
    "qartist = input_query[1]\n",
    "queried = qtrack + \" \" + qartist"
   ]
  },
  {
   "cell_type": "markdown",
   "metadata": {},
   "source": [
    "### Scrap Functions"
   ]
  },
  {
   "cell_type": "code",
   "execution_count": 88,
   "metadata": {},
   "outputs": [],
   "source": [
    "# Clean string\n",
    "def clean_string(st):\n",
    "    st = st.lower()\n",
    "    st = st.replace(\",\",\" \")\n",
    "    st = st.replace(\";\", \" \")\n",
    "    st = st.replace(\"&\", \" \")\n",
    "    st = st.replace(\"[\", \" \")\n",
    "    st = st.replace(\"]\", \" \")\n",
    "    st = st.replace(\"-\", \" \")\n",
    "    return st\n",
    "\n",
    "def split_string(st):\n",
    "    return [particle for particle in st.split(\" \") if len(particle)>0]\n",
    "\n",
    "def match_title(queried, qtrack, qartist, a, b):\n",
    "    \"\"\"\n",
    "    a = title.find(\"a\").get(\"title\") (text that appears on the title)\n",
    "    b = artist_yt.text (text that appears on the artist section)\n",
    "    queried = track_name + \" \" + artist_name\n",
    "    qtrack = track_name\n",
    "    qartist = artist_name\n",
    "    \"\"\"\n",
    "    \n",
    "    # Clearning\n",
    "    a = clean_string(a)\n",
    "    b = clean_string(b)\n",
    "    queried = clean_string(queried)\n",
    "    qtrack = clean_string(qtrack)\n",
    "    qartist = clean_string(qartist)\n",
    "    \n",
    "    # Splitting\n",
    "    a = set(split_string(a))\n",
    "    b = set(split_string(b))\n",
    "    queried = set(split_string(queried))\n",
    "    qtrack = set(split_string(qtrack))\n",
    "    qartist = set(split_string(qartist))\n",
    "    \n",
    "    # Matching\n",
    "    match = False\n",
    "    lquery = len(queried) #length of total query\n",
    "    ltrack = len(qtrack) #length of elements of qtrack\n",
    "    lartist = len(qartist) # length of elements of qartis\n",
    "    \n",
    "    # Check match with title\n",
    "    if len(a & queried) == lquery:\n",
    "        match = True\n",
    "    elif len(b & queried) == lartist: # if the artist name coincides\n",
    "        # if the title contains the track name or at least almost all words except 1\n",
    "        if len(a & qtrack) >= (ltrack -1): \n",
    "            match = True\n",
    "    elif len(a & queried) == (lquery - 1): # allow one word not to be present\n",
    "        match = True\n",
    "        \n",
    "    # For track_names with more than 3 words, allow some words missing\n",
    "    if match is False:\n",
    "        # If more than 3 words in the name of the song\n",
    "        if ltrack > 3:\n",
    "            # Allow two words to be missing\n",
    "            if len(a & qtrack) >= (lquery -2):\n",
    "                match = True           \n",
    "        \n",
    "    return match"
   ]
  },
  {
   "cell_type": "markdown",
   "metadata": {},
   "source": [
    "### DB functions"
   ]
  },
  {
   "cell_type": "code",
   "execution_count": 89,
   "metadata": {},
   "outputs": [],
   "source": [
    "def db_execute_insert(query):\n",
    "    ENDPOINT=\"tracksurl.czjs6btlvfgd.eu-west-2.rds.amazonaws.com\"\n",
    "    PORT=\"5432\"\n",
    "    USR=\"david\"\n",
    "    REGION=\"eu-west-2\"\n",
    "    DBNAME=\"postgres\"\n",
    "    PSSWD=[\"qrks\",\"jfut\",\"iv\",\"uf\",\"1\"]\n",
    "    \n",
    "    try:\n",
    "        conn = psycopg2.connect(host=ENDPOINT, port=PORT, database=DBNAME, user=USR, password=''.join(PSSWD))\n",
    "        cur = conn.cursor()\n",
    "        cur.execute(query)\n",
    "        conn.commit()\n",
    "        return True\n",
    "    except Exception as e:\n",
    "        error = \"Database connection failed due to {}\".format(e)\n",
    "        return False\n",
    "    \n",
    "def db_execute_select():\n",
    "    ENDPOINT=\"tracksurl.czjs6btlvfgd.eu-west-2.rds.amazonaws.com\"\n",
    "    PORT=\"5432\"\n",
    "    USR=\"david\"\n",
    "    REGION=\"eu-west-2\"\n",
    "    DBNAME=\"postgres\"\n",
    "    PSSWD=[\"qrks\",\"jfut\",\"iv\",\"uf\",\"1\"]\n",
    "    \n",
    "    try:\n",
    "        conn = psycopg2.connect(host=ENDPOINT, port=PORT, database=DBNAME, user=USR, password=''.join(PSSWD))\n",
    "        cur = conn.cursor()\n",
    "        cur.execute(\"\"\"SELECT * FROM results\"\"\")\n",
    "        query_results = cur.fetchall()\n",
    "        df = query_results_to_df(query_results)\n",
    "        return df\n",
    "    except Exception as e:\n",
    "        error = \"Database connection failed due to {}\".format(e)\n",
    "        return False\n",
    "\n",
    "def query_results_to_df(query_results):\n",
    "    if len(query_results) == 0:\n",
    "        return False\n",
    "    cols = [\"artist_id\",\"track_id\",\"is_found\",\"queried\",\"href\", \"visual\"]\n",
    "    return pd.DataFrame(query_results, columns=cols)"
   ]
  },
  {
   "cell_type": "code",
   "execution_count": 90,
   "metadata": {},
   "outputs": [],
   "source": [
    "df_current_urls = db_execute_select()"
   ]
  },
  {
   "cell_type": "markdown",
   "metadata": {},
   "source": [
    "# Check if that pair artist_id track_id has been previously queried"
   ]
  },
  {
   "cell_type": "code",
   "execution_count": 91,
   "metadata": {},
   "outputs": [],
   "source": [
    "mask_artist = df_current_urls[\"artist_id\"] == artist_id\n",
    "mask_track = df_current_urls[\"track_id\"] == track_id\n",
    "shape_result = df_current_urls[mask_artist & mask_track].shape[0]"
   ]
  },
  {
   "cell_type": "code",
   "execution_count": 92,
   "metadata": {},
   "outputs": [],
   "source": [
    "if shape_result > 0:\n",
    "    #sys.exit(\"Already done\") # TO DO\n",
    "    print(\"Already Done\")"
   ]
  },
  {
   "cell_type": "markdown",
   "metadata": {},
   "source": [
    "# Scrapping"
   ]
  },
  {
   "cell_type": "code",
   "execution_count": 93,
   "metadata": {},
   "outputs": [],
   "source": [
    "qq = f\"https://www.youtube.com/results?hl=es&gl=ES&search_query={queried}\""
   ]
  },
  {
   "cell_type": "code",
   "execution_count": 94,
   "metadata": {},
   "outputs": [],
   "source": [
    "browser = webdriver.Chrome(options=options)"
   ]
  },
  {
   "cell_type": "code",
   "execution_count": 95,
   "metadata": {},
   "outputs": [],
   "source": [
    "# Perform query\n",
    "browser.get(qq)"
   ]
  },
  {
   "cell_type": "code",
   "execution_count": 96,
   "metadata": {},
   "outputs": [],
   "source": [
    "# Convert to LXML\n",
    "page = BeautifulSoup(browser.page_source, 'lxml')"
   ]
  },
  {
   "cell_type": "code",
   "execution_count": 97,
   "metadata": {},
   "outputs": [],
   "source": [
    "# --------------------------------------------------------------------------------------------------- #\n",
    "# WRAPPER LIST OF VIDEOS\n",
    "\n",
    "# Take the text wrapper class that has both the title, the artist name and the metadata (visualizations)\n",
    "# This returns a list of all the text wrappers\n",
    "text_wrapper_list = page.find_all(\"div\", {\"class\": \"text-wrapper style-scope ytd-video-renderer\"})\n",
    "# --------------------------------------------------------------------------------------------------- #\n",
    "\n",
    "# --------------------------------------------------------------------------------------------------- #\n",
    "# FOR EACH VIDEO WRAPPER\n",
    "\n",
    "# for loop to navigate to each text wrapper\n",
    "for title_wrapper in text_wrapper_list:\n",
    "\n",
    "\n",
    "    ### ---------  VIDEO TITLE and HREF  ----------- ###\n",
    "    video_title_a = title_wrapper.find(\"a\", {\"id\": \"video-title\"})\n",
    "    yt_title = video_title_a.attrs[\"title\"]\n",
    "    yt_href = video_title_a.attrs[\"href\"]\n",
    "\n",
    "    ### ---------  VIDEO ARTIST CHANNEL   ----------- ###\n",
    "    channel_a = title_wrapper.find(\"a\", {\"class\": \"yt-simple-endpoint style-scope yt-formatted-string\"})\n",
    "    yt_artist = channel_a.text\n",
    "\n",
    "    ### ---------  TOTAL VISUALIZATIONS   ----------- ###\n",
    "    aria_label_visualizations = str(video_title_a).replace(\".\",\"\")\n",
    "    visualizations = set(re.findall(r\"(\\d+) visualizaciones\", aria_label_visualizations))\n",
    "    if len(visualizations):\n",
    "        visualizations = list(visualizations)[0]\n",
    "        visualizations = int(visualizations)\n",
    "    else:\n",
    "        visualizations = -1\n",
    "\n",
    "    ### ---------  CHECK IF MATCH   ----------- ###\n",
    "\n",
    "    # Cleaning strings\n",
    "    match = match_title(queried, qtrack, qartist, yt_title, yt_artist)\n",
    "    \n",
    "    if match:\n",
    "        break"
   ]
  },
  {
   "cell_type": "code",
   "execution_count": 98,
   "metadata": {},
   "outputs": [],
   "source": [
    "# Prepare the variables\n",
    "is_found = 'f'\n",
    "href_video = \"NOTFOUND\"\n",
    "queried = queried.lower()\n",
    "if match:\n",
    "    if len(yt_href):\n",
    "        is_found = 't'\n",
    "        href_video = \"https://www.youtube.com\" + yt_href\n",
    "\n",
    "query_insert = f\"\"\"\n",
    "INSERT INTO results VALUES ('{artist_id}','{track_id}','{is_found}','{queried}','{href_video}',{visualizations})\n",
    "\"\"\".strip()"
   ]
  },
  {
   "cell_type": "code",
   "execution_count": 100,
   "metadata": {},
   "outputs": [],
   "source": [
    "result_query = db_execute_insert(query_insert)"
   ]
  },
  {
   "cell_type": "code",
   "execution_count": 101,
   "metadata": {},
   "outputs": [
    {
     "data": {
      "text/plain": [
       "True"
      ]
     },
     "execution_count": 101,
     "metadata": {},
     "output_type": "execute_result"
    }
   ],
   "source": [
    "result_query"
   ]
  }
 ],
 "metadata": {
  "kernelspec": {
   "display_name": "Python 3",
   "language": "python",
   "name": "python3"
  },
  "language_info": {
   "codemirror_mode": {
    "name": "ipython",
    "version": 3
   },
   "file_extension": ".py",
   "mimetype": "text/x-python",
   "name": "python",
   "nbconvert_exporter": "python",
   "pygments_lexer": "ipython3",
   "version": "3.7.6"
  }
 },
 "nbformat": 4,
 "nbformat_minor": 4
}
